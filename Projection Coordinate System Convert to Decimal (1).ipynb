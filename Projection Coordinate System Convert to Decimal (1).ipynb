{
 "cells": [
  {
   "cell_type": "code",
   "execution_count": 2,
   "id": "3114bbfc",
   "metadata": {},
   "outputs": [],
   "source": [
    "latitude = \"20-55-70.010N\" # Change this into your latitude, notice the N and S\n",
    "longitude = \"32-11-50.000W\" # Change this into your longitude, notice the W and E\n",
    "latitude = sum(float(x) / 60 ** n for n, x in enumerate(latitude[:-1].split('-')))  * (1 if 'N' in latitude[-1] else -1)\n",
    "longitude = sum(float(x) / 60 ** n for n, x in enumerate(longitude[:-1].split('-'))) * (1 if 'E' in longitude[-1] else -1)"
   ]
  },
  {
   "cell_type": "code",
   "execution_count": 3,
   "id": "0862a4f1",
   "metadata": {},
   "outputs": [
    {
     "name": "stdout",
     "output_type": "stream",
     "text": [
      "-32.197222222222216 20.93611388888889\n"
     ]
    }
   ],
   "source": [
    "print(longitude,latitude)"
   ]
  }
 ],
 "metadata": {
  "kernelspec": {
   "display_name": "Python 3",
   "language": "python",
   "name": "python3"
  },
  "language_info": {
   "codemirror_mode": {
    "name": "ipython",
    "version": 3
   },
   "file_extension": ".py",
   "mimetype": "text/x-python",
   "name": "python",
   "nbconvert_exporter": "python",
   "pygments_lexer": "ipython3",
   "version": "3.8.8"
  }
 },
 "nbformat": 4,
 "nbformat_minor": 5
}
